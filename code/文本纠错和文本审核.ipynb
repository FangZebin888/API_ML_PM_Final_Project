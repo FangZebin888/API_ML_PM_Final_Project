{
 "cells": [
  {
   "cell_type": "markdown",
   "metadata": {},
   "source": [
    "### 文本纠错"
   ]
  },
  {
   "cell_type": "code",
   "execution_count": 5,
   "metadata": {},
   "outputs": [],
   "source": [
    "from aip import AipFace,AipBodyAnalysis\n",
    "from IPython.display import Image\n",
    "from IPython.core.display import HTML \n",
    "from aip import AipNlp\n",
    "\"\"\" 你的 APPID AK SK \"\"\"\n",
    "APP_ID = '17954942'\n",
    "API_KEY = 'QlX1U2XhV2i3lwptHkq0AqW8'\n",
    "SECRET_KEY = '8XeUr3lOu9GmGTm31gnORCpaSjOl3x4P'\n",
    "client = AipNlp(APP_ID, API_KEY, SECRET_KEY)"
   ]
  },
  {
   "cell_type": "code",
   "execution_count": 9,
   "metadata": {
    "scrolled": true
   },
   "outputs": [
    {
     "data": {
      "text/plain": [
       "{'log_id': 8409819509536772934,\n",
       " 'item': {'vec_fragment': [{'ori_frag': '委缩',\n",
       "    'begin_pos': 42,\n",
       "    'correct_frag': '萎缩',\n",
       "    'end_pos': 46},\n",
       "   {'ori_frag': '巨烈', 'begin_pos': 82, 'correct_frag': '剧烈', 'end_pos': 86}],\n",
       "  'score': 0.765779,\n",
       "  'correct_query': '日前，地球上的绿色之肺——森林正在一天天地萎缩。由于燃烧物增多，二氧化碳的排放量在剧烈增加。'},\n",
       " 'text': '日前，地球上的绿色之肺——森林正在一天天地委缩。由于燃烧物增多，二氧化碳的排放量在巨烈增加。'}"
      ]
     },
     "execution_count": 9,
     "metadata": {},
     "output_type": "execute_result"
    }
   ],
   "source": [
    "text = \"日前，地球上的绿色之肺——森林正在一天天地委缩。由于燃烧物增多，二氧化碳的排放量在巨烈增加。\"\n",
    "\n",
    "\"\"\" 调用文本纠错 \"\"\"\n",
    "client.ecnet(text)"
   ]
  },
  {
   "cell_type": "markdown",
   "metadata": {},
   "source": [
    "### 文本审核"
   ]
  },
  {
   "cell_type": "code",
   "execution_count": 4,
   "metadata": {},
   "outputs": [
    {
     "data": {
      "text/plain": [
       "{'log_id': 1153003550811793417,\n",
       " 'result': {'spam': 1,\n",
       "  'review': [],\n",
       "  'reject': [{'score': 1.0, 'hit': ['法轮功', '法轮', '轮功'], 'label': 3},\n",
       "   {'score': 0.95663443396226, 'hit': [], 'label': 4}],\n",
       "  'pass': [{'score': 0.2, 'hit': [], 'label': 1},\n",
       "   {'score': 0.013000000268221, 'hit': [], 'label': 2},\n",
       "   {'score': 0.0020000000949949, 'hit': [], 'label': 5}]}}"
      ]
     },
     "execution_count": 4,
     "metadata": {},
     "output_type": "execute_result"
    }
   ],
   "source": [
    "from aip import AipImageCensor\n",
    "from IPython.display import Image\n",
    "from IPython.core.display import HTML \n",
    "import base64\n",
    "\"\"\" 你的 APPID AK SK \"\"\"\n",
    "APP_ID = '17955305'\n",
    "API_KEY = 'pREm7vlRtbxTG5r0txTOEVKY'\n",
    "SECRET_KEY = 'LW3dtaibVb3nkmRGFNLs9dGT0bhRz6El'\n",
    "client = AipImageCensor(APP_ID, API_KEY, SECRET_KEY)\n",
    "\n",
    "client.antiSpam('加入法轮功，共同创建幸福')"
   ]
  },
  {
   "cell_type": "code",
   "execution_count": null,
   "metadata": {},
   "outputs": [],
   "source": []
  }
 ],
 "metadata": {
  "kernelspec": {
   "display_name": "Python 3",
   "language": "python",
   "name": "python3"
  },
  "language_info": {
   "codemirror_mode": {
    "name": "ipython",
    "version": 3
   },
   "file_extension": ".py",
   "mimetype": "text/x-python",
   "name": "python",
   "nbconvert_exporter": "python",
   "pygments_lexer": "ipython3",
   "version": "3.7.3"
  }
 },
 "nbformat": 4,
 "nbformat_minor": 2
}
