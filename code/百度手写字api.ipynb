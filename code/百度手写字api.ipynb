{
 "cells": [
  {
   "cell_type": "code",
   "execution_count": 15,
   "metadata": {
    "scrolled": true
   },
   "outputs": [
    {
     "name": "stdout",
     "output_type": "stream",
     "text": [
      "{'log_id': 4783419780450766123,\n",
      " 'words_result': [{'location': {'height': 19,\n",
      "                                'left': 565,\n",
      "                                'top': 559,\n",
      "                                'width': 21},\n",
      "                   'words': ','},\n",
      "                  {'location': {'height': 176,\n",
      "                                'left': 611,\n",
      "                                'top': 820,\n",
      "                                'width': 89},\n",
      "                   'words': '浏应'},\n",
      "                  {'location': {'height': 52,\n",
      "                                'left': 829,\n",
      "                                'top': 1264,\n",
      "                                'width': 54},\n",
      "                   'words': 'L'},\n",
      "                  {'location': {'height': 181,\n",
      "                                'left': 608,\n",
      "                                'top': 1428,\n",
      "                                'width': 120},\n",
      "                   'words': '⑤秒'},\n",
      "                  {'location': {'height': 44,\n",
      "                                'left': 877,\n",
      "                                'top': 1516,\n",
      "                                'width': 31},\n",
      "                   'words': 'Q'}],\n",
      " 'words_result_num': 5}\n",
      "{'log_id': 6871930170409909675,\n",
      " 'words_result': [{'location': {'height': 204,\n",
      "                                'left': 374,\n",
      "                                'top': 230,\n",
      "                                'width': 1214},\n",
      "                   'words': '网络与新媒体APT人工智能产'},\n",
      "                  {'location': {'height': 157,\n",
      "                                'left': 363,\n",
      "                                'top': 440,\n",
      "                                'width': 1108},\n",
      "                   'words': '品经理手写库APZ测试.'}],\n",
      " 'words_result_num': 2}\n"
     ]
    }
   ],
   "source": [
    "import urllib, urllib.request, sys\n",
    "import requests\n",
    "import ssl\n",
    "import json\n",
    "import pprint\n",
    "import base64\n",
    "# client_id 为官网获取的AK， client_secret 为官网获取的SK\n",
    "def get_file_content(filePath):\n",
    "    with open(filePath, 'rb') as fp:\n",
    "        return fp.read()\n",
    "host = 'https://aip.baidubce.com/oauth/2.0/token?grant_type=client_credentials&client_id=ABDsQ1Lmq7hsDd3LhfIrExP6&client_secret=RCc8uX5zIeFNyyaGRh7k5SX0uNKdhRV1'\n",
    "request = urllib.request.Request(host)\n",
    "request.add_header('Content-Type', 'application/json; charset=UTF-8')\n",
    "response = urllib.request.urlopen(request)\n",
    "content = response.read()\n",
    "# if (content):\n",
    "#     print(content)\n",
    "access_token = eval(content)[\"access_token\"]\n",
    "access_token\n",
    "# access_token = \"24.2f675d03474d01f013372af8ff2a3ba7.2592000.1574426829.282335-17604736\"\n",
    "# image = get_file_content(r'C:\\Users\\Administrator\\Desktop\\ces.jpg')\n",
    "url = \"https://aip.baidubce.com/rest/2.0/ocr/v1/handwriting?access_token=\"+access_token\n",
    "# print(image)\n",
    "with open(r'C:\\Users\\Administrator\\Desktop\\2.jpg', 'rb') as f:\n",
    "    base64_data = base64.b64encode(f.read())\n",
    "    s = base64_data.decode()\n",
    "    \n",
    "with open(r'C:\\Users\\Administrator\\Desktop\\ces.jpg', 'rb') as f:\n",
    "    base64_data = base64.b64encode(f.read())\n",
    "    s1 = base64_data.decode()\n",
    "# ur = urllib.parse.quote(image)\n",
    "# print(type(ur))\n",
    "data={\n",
    "    \"image\":s\n",
    "}\n",
    "data1={\n",
    "    \"image\":s1\n",
    "}\n",
    "headers = {'content-type': 'application/x-www-form-urlencoded'\n",
    "           }\n",
    "# encode_data = json.dumps(data).encode('utf-8')\n",
    "# print(encode_data)\n",
    "r = requests.post(url, data = data, headers=headers)\n",
    "result = r.json()\n",
    "pprint.pprint(result)\n",
    "r1 = requests.post(url, data = data1, headers=headers)\n",
    "result = r1.json()\n",
    "pprint.pprint(result)"
   ]
  },
  {
   "cell_type": "code",
   "execution_count": null,
   "metadata": {},
   "outputs": [],
   "source": []
  },
  {
   "cell_type": "code",
   "execution_count": null,
   "metadata": {},
   "outputs": [],
   "source": []
  }
 ],
 "metadata": {
  "kernelspec": {
   "display_name": "Python 3",
   "language": "python",
   "name": "python3"
  },
  "language_info": {
   "codemirror_mode": {
    "name": "ipython",
    "version": 3
   },
   "file_extension": ".py",
   "mimetype": "text/x-python",
   "name": "python",
   "nbconvert_exporter": "python",
   "pygments_lexer": "ipython3",
   "version": "3.7.3"
  }
 },
 "nbformat": 4,
 "nbformat_minor": 2
}
